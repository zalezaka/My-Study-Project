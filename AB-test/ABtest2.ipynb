{
 "cells": [
  {
   "cell_type": "markdown",
   "metadata": {},
   "source": [
    "## АБ-тест на основе данных о покупках\n"
   ]
  },
  {
   "cell_type": "code",
   "execution_count": 129,
   "metadata": {},
   "outputs": [],
   "source": [
    "import pandas as pd\n",
    "import scipy as ss\n",
    "import seaborn as sns\n",
    "import numpy as np\n",
    "import matplotlib.pyplot as plt\n",
    "from scipy.stats import chi2_contingency\n",
    "\n",
    "import statsmodels.formula.api as smf "
   ]
  },
  {
   "cell_type": "code",
   "execution_count": 110,
   "metadata": {},
   "outputs": [],
   "source": [
    "ab_orders = pd.read_csv('/mnt/HC_Volume_18315164/home-jupyter/jupyter-e-shalaeva/data_work/ab_orders.csv')\n",
    "ab_products = pd.read_csv('/mnt/HC_Volume_18315164/home-jupyter/jupyter-e-shalaeva/data_work/ab_products.csv')\n",
    "ab_users_data = pd.read_csv('/mnt/HC_Volume_18315164/home-jupyter/jupyter-e-shalaeva/data_work/ab_users_data.csv')\n"
   ]
  },
  {
   "cell_type": "code",
   "execution_count": 111,
   "metadata": {},
   "outputs": [],
   "source": [
    "new_data = pd.DataFrame(ab_orders['product_ids'].str.split(',').replace('{', '').tolist(), index=ab_orders.index).stack().reset_index(level=1, drop=True).rename('product_ids')\n",
    "\n",
    "ab_orders = ab_orders.drop('product_ids', axis=1).join(new_data)\n",
    "ab_orders = pd.concat([ab_orders, ab_orders['product_ids'].str.split(',', expand=True)\\\n",
    "                    .applymap(lambda x: x.replace('{', '').replace('}', '')).add_prefix('New_Column_')], axis=1)\\\n",
    "                    .drop(['product_ids'] , axis=1)\\\n",
    "                    .rename(columns = {'New_Column_0':'product_id'})"
   ]
  },
  {
   "cell_type": "code",
   "execution_count": 121,
   "metadata": {},
   "outputs": [],
   "source": [
    "ab_orders.creation_time = pd.to_datetime(ab_orders.creation_time)\n",
    "\n",
    "ab_orders.product_id = ab_orders.product_id.astype('int')\n",
    "ab_orders.order_id = ab_orders.order_id.astype('int')"
   ]
  },
  {
   "cell_type": "code",
   "execution_count": 118,
   "metadata": {},
   "outputs": [],
   "source": [
    "merged_df = pd.merge(ab_orders, ab_products, on=['product_id'], how='inner')"
   ]
  },
  {
   "cell_type": "code",
   "execution_count": 125,
   "metadata": {},
   "outputs": [],
   "source": [
    "df = merged_df.merge(ab_users_data, on = 'order_id', how = 'inner')"
   ]
  },
  {
   "cell_type": "code",
   "execution_count": 126,
   "metadata": {},
   "outputs": [
    {
     "data": {
      "text/html": [
       "<div>\n",
       "<style scoped>\n",
       "    .dataframe tbody tr th:only-of-type {\n",
       "        vertical-align: middle;\n",
       "    }\n",
       "\n",
       "    .dataframe tbody tr th {\n",
       "        vertical-align: top;\n",
       "    }\n",
       "\n",
       "    .dataframe thead th {\n",
       "        text-align: right;\n",
       "    }\n",
       "</style>\n",
       "<table border=\"1\" class=\"dataframe\">\n",
       "  <thead>\n",
       "    <tr style=\"text-align: right;\">\n",
       "      <th></th>\n",
       "      <th>order_id</th>\n",
       "      <th>product_id</th>\n",
       "      <th>price</th>\n",
       "      <th>user_id</th>\n",
       "      <th>group</th>\n",
       "    </tr>\n",
       "  </thead>\n",
       "  <tbody>\n",
       "    <tr>\n",
       "      <th>order_id</th>\n",
       "      <td>1.000000</td>\n",
       "      <td>0.001534</td>\n",
       "      <td>-0.002526</td>\n",
       "      <td>0.086479</td>\n",
       "      <td>0.064640</td>\n",
       "    </tr>\n",
       "    <tr>\n",
       "      <th>product_id</th>\n",
       "      <td>0.001534</td>\n",
       "      <td>1.000000</td>\n",
       "      <td>0.003317</td>\n",
       "      <td>-0.001252</td>\n",
       "      <td>-0.016844</td>\n",
       "    </tr>\n",
       "    <tr>\n",
       "      <th>price</th>\n",
       "      <td>-0.002526</td>\n",
       "      <td>0.003317</td>\n",
       "      <td>1.000000</td>\n",
       "      <td>-0.001890</td>\n",
       "      <td>-0.014341</td>\n",
       "    </tr>\n",
       "    <tr>\n",
       "      <th>user_id</th>\n",
       "      <td>0.086479</td>\n",
       "      <td>-0.001252</td>\n",
       "      <td>-0.001890</td>\n",
       "      <td>1.000000</td>\n",
       "      <td>-0.012306</td>\n",
       "    </tr>\n",
       "    <tr>\n",
       "      <th>group</th>\n",
       "      <td>0.064640</td>\n",
       "      <td>-0.016844</td>\n",
       "      <td>-0.014341</td>\n",
       "      <td>-0.012306</td>\n",
       "      <td>1.000000</td>\n",
       "    </tr>\n",
       "  </tbody>\n",
       "</table>\n",
       "</div>"
      ],
      "text/plain": [
       "            order_id  product_id     price   user_id     group\n",
       "order_id    1.000000    0.001534 -0.002526  0.086479  0.064640\n",
       "product_id  0.001534    1.000000  0.003317 -0.001252 -0.016844\n",
       "price      -0.002526    0.003317  1.000000 -0.001890 -0.014341\n",
       "user_id     0.086479   -0.001252 -0.001890  1.000000 -0.012306\n",
       "group       0.064640   -0.016844 -0.014341 -0.012306  1.000000"
      ]
     },
     "execution_count": 126,
     "metadata": {},
     "output_type": "execute_result"
    }
   ],
   "source": [
    "df.corr(method='pearson')"
   ]
  },
  {
   "cell_type": "code",
   "execution_count": 131,
   "metadata": {},
   "outputs": [
    {
     "name": "stdout",
     "output_type": "stream",
     "text": [
      "                            OLS Regression Results                            \n",
      "==============================================================================\n",
      "Dep. Variable:                  group   R-squared:                       0.000\n",
      "Model:                            OLS   Adj. R-squared:                  0.000\n",
      "Method:                 Least Squares   F-statistic:                     2.997\n",
      "Date:                Thu, 13 Apr 2023   Prob (F-statistic):             0.0835\n",
      "Time:                        15:51:28   Log-Likelihood:                -10209.\n",
      "No. Observations:               14569   AIC:                         2.042e+04\n",
      "Df Residuals:                   14567   BIC:                         2.044e+04\n",
      "Df Model:                           1                                         \n",
      "Covariance Type:            nonrobust                                         \n",
      "==============================================================================\n",
      "                 coef    std err          t      P>|t|      [0.025      0.975]\n",
      "------------------------------------------------------------------------------\n",
      "Intercept      0.6176      0.006    106.163      0.000       0.606       0.629\n",
      "price      -6.502e-05   3.76e-05     -1.731      0.083      -0.000     8.6e-06\n",
      "==============================================================================\n",
      "Omnibus:                    57995.120   Durbin-Watson:                   0.565\n",
      "Prob(Omnibus):                  0.000   Jarque-Bera (JB):             2451.691\n",
      "Skew:                          -0.452   Prob(JB):                         0.00\n",
      "Kurtosis:                       1.206   Cond. No.                         223.\n",
      "==============================================================================\n",
      "\n",
      "Notes:\n",
      "[1] Standard Errors assume that the covariance matrix of the errors is correctly specified.\n"
     ]
    }
   ],
   "source": [
    "model = smf.ols(formula='group ~ price', data=df).fit()\n",
    "print(model.summary())"
   ]
  },
  {
   "cell_type": "code",
   "execution_count": 136,
   "metadata": {},
   "outputs": [],
   "source": [
    "df_price = df.groupby(['group','order_id'], as_index = False).agg({'price':'sum'})"
   ]
  },
  {
   "cell_type": "code",
   "execution_count": 137,
   "metadata": {},
   "outputs": [],
   "source": [
    "df_prod= df.groupby(['group','order_id'], as_index = False).agg({'product_id':'count'})"
   ]
  },
  {
   "cell_type": "code",
   "execution_count": 138,
   "metadata": {},
   "outputs": [
    {
     "name": "stdout",
     "output_type": "stream",
     "text": [
      "                            OLS Regression Results                            \n",
      "==============================================================================\n",
      "Dep. Variable:                  group   R-squared:                       0.000\n",
      "Model:                            OLS   Adj. R-squared:                  0.000\n",
      "Method:                 Least Squares   F-statistic:                     1.332\n",
      "Date:                Thu, 13 Apr 2023   Prob (F-statistic):              0.249\n",
      "Time:                        15:55:22   Log-Likelihood:                -2890.0\n",
      "No. Observations:                4123   AIC:                             5784.\n",
      "Df Residuals:                    4121   BIC:                             5797.\n",
      "Df Model:                           1                                         \n",
      "Covariance Type:            nonrobust                                         \n",
      "==============================================================================\n",
      "                 coef    std err          t      P>|t|      [0.025      0.975]\n",
      "------------------------------------------------------------------------------\n",
      "Intercept      0.6222      0.013     47.099      0.000       0.596       0.648\n",
      "price      -3.168e-05   2.74e-05     -1.154      0.249   -8.55e-05    2.21e-05\n",
      "==============================================================================\n",
      "Omnibus:                    16704.676   Durbin-Watson:                   0.002\n",
      "Prob(Omnibus):                  0.000   Jarque-Bera (JB):              693.344\n",
      "Skew:                          -0.450   Prob(JB):                    2.77e-151\n",
      "Kurtosis:                       1.204   Cond. No.                         837.\n",
      "==============================================================================\n",
      "\n",
      "Notes:\n",
      "[1] Standard Errors assume that the covariance matrix of the errors is correctly specified.\n"
     ]
    }
   ],
   "source": [
    "model = smf.ols(formula='group ~ price', data=df_price).fit()\n",
    "print(model.summary())"
   ]
  },
  {
   "cell_type": "code",
   "execution_count": 140,
   "metadata": {},
   "outputs": [
    {
     "name": "stdout",
     "output_type": "stream",
     "text": [
      "                            OLS Regression Results                            \n",
      "==============================================================================\n",
      "Dep. Variable:                  group   R-squared:                       0.000\n",
      "Model:                            OLS   Adj. R-squared:                 -0.000\n",
      "Method:                 Least Squares   F-statistic:                   0.02838\n",
      "Date:                Thu, 13 Apr 2023   Prob (F-statistic):              0.866\n",
      "Time:                        15:55:49   Log-Likelihood:                -2890.6\n",
      "No. Observations:                4123   AIC:                             5785.\n",
      "Df Residuals:                    4121   BIC:                             5798.\n",
      "Df Model:                           1                                         \n",
      "Covariance Type:            nonrobust                                         \n",
      "==============================================================================\n",
      "                 coef    std err          t      P>|t|      [0.025      0.975]\n",
      "------------------------------------------------------------------------------\n",
      "Intercept      0.6070      0.018     33.288      0.000       0.571       0.643\n",
      "product_id     0.0008      0.005      0.168      0.866      -0.008       0.010\n",
      "==============================================================================\n",
      "Omnibus:                    16689.029   Durbin-Watson:                   0.001\n",
      "Prob(Omnibus):                  0.000   Jarque-Bera (JB):              694.191\n",
      "Skew:                          -0.450   Prob(JB):                    1.81e-151\n",
      "Kurtosis:                       1.203   Cond. No.                         9.84\n",
      "==============================================================================\n",
      "\n",
      "Notes:\n",
      "[1] Standard Errors assume that the covariance matrix of the errors is correctly specified.\n"
     ]
    }
   ],
   "source": [
    "model = smf.ols(formula='group ~ product_id', data=df_prod).fit()\n",
    "print(model.summary())"
   ]
  },
  {
   "cell_type": "markdown",
   "metadata": {},
   "source": [
    "Вывод: статистически значимая разница есть, но она настолько мала, что может не окупить затраты"
   ]
  },
  {
   "cell_type": "code",
   "execution_count": null,
   "metadata": {},
   "outputs": [],
   "source": []
  }
 ],
 "metadata": {
  "kernelspec": {
   "display_name": "Python 3",
   "language": "python",
   "name": "python3"
  },
  "language_info": {
   "codemirror_mode": {
    "name": "ipython",
    "version": 3
   },
   "file_extension": ".py",
   "mimetype": "text/x-python",
   "name": "python",
   "nbconvert_exporter": "python",
   "pygments_lexer": "ipython3",
   "version": "3.7.3"
  }
 },
 "nbformat": 4,
 "nbformat_minor": 4
}
