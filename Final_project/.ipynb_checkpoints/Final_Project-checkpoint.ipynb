{
 "cells": [
  {
   "cell_type": "markdown",
   "metadata": {},
   "source": [
    "#  <center>ПРОЕКТ. ВАРИАНТ 3</center>\n"
   ]
  },
  {
   "cell_type": "markdown",
   "metadata": {},
   "source": [
    "Был проведен A/B тест, в рамках которого для новых пользователей из нескольких стран была **изменена стоимость** премиум-подписки* , которая дает доступ к ряду важных **дополнительных возможностей**, при покупке через две новые платежные системы. При этом стоимость пробного периода оставалась прежней.\n",
    "\n",
    "Проверьте:\n",
    "\n",
    "- Был ли эксперимент успешен в целом.\n",
    "- Проанализируйте, имеет ли нововведение смысл среди каких-либо конкретных групп пользователей.\n",
    "\n",
    "\n",
    "**Деньги за подписку списываются ежемесячно до тех пор, пока пользователь её не отменит*.\n"
   ]
  },
  {
   "cell_type": "markdown",
   "metadata": {},
   "source": [
    "# <center>Скачиваем данные и библиотеки для работы </center>"
   ]
  },
  {
   "cell_type": "code",
   "execution_count": 365,
   "metadata": {},
   "outputs": [],
   "source": [
    "import pandas as pd\n",
    "import requests\n",
    "import seaborn as sns\n",
    "import matplotlib.pyplot as plt\n",
    "%matplotlib inline\n",
    "\n",
    "from scipy import stats\n",
    "from scipy.stats import mannwhitneyu\n",
    "from scipy.stats import kruskal\n",
    "\n",
    "from urllib.parse import urlencode\n"
   ]
  },
  {
   "cell_type": "code",
   "execution_count": 289,
   "metadata": {},
   "outputs": [],
   "source": [
    "def get_file_yandex(path):\n",
    "    \"\"\"Функция скачивания файла из Яндекс Диска, выводящая ее в виде дата-фрейма\"\"\"\n",
    "\n",
    "    base_url = \"https://cloud-api.yandex.net/v1/disk/public/resources/download?\"\n",
    "    public_key = path\n",
    "    final_url = base_url + urlencode(dict(public_key=public_key))\n",
    "    response = requests.get(final_url)\n",
    "    download_url = response.json()[\"href\"]\n",
    "    download_response = requests.get(download_url)\n",
    "\n",
    "    with open(\"downloaded_file.csv\", \"wb\") as f:\n",
    "        f.write(download_response.content)\n",
    "    df = pd.read_csv(\"downloaded_file.csv\", sep=\";\")\n",
    "\n",
    "    return df"
   ]
  },
  {
   "cell_type": "code",
   "execution_count": 290,
   "metadata": {},
   "outputs": [],
   "source": [
    "def apply_conditions(df):\n",
    "    \"\"\"Функция присваивающая статус пользователям\"\"\"\n",
    "\n",
    "    choices = [\n",
    "        \"не пробовал премиум и нет сейчас\",\n",
    "        \"новый пользователь премиум\",\n",
    "        \"сейчас не премиум-подписчкик, но когда-то был\",\n",
    "        \"остался премиумом как и был (возможно смена пробного на премиум)\",\n",
    "    ]\n",
    "    df[\"status\"] = \"\"\n",
    "\n",
    "    for index, row in df.iterrows():\n",
    "        if row[\"was_premium\"] == 0 and row[\"is_premium\"] == 0:\n",
    "            df.at[index, \"status\"] = choices[0]\n",
    "        elif row[\"was_premium\"] == 0 and row[\"is_premium\"] == 1:\n",
    "            df.at[index, \"status\"] = choices[1]\n",
    "        elif row[\"was_premium\"] == 1 and row[\"is_premium\"] == 0:\n",
    "            df.at[index, \"status\"] = choices[2]\n",
    "        elif row[\"was_premium\"] == 1 and row[\"is_premium\"] == 1:\n",
    "            df.at[index, \"status\"] = choices[3]\n",
    "\n",
    "    return df\n"
   ]
  },
  {
   "cell_type": "code",
   "execution_count": 303,
   "metadata": {},
   "outputs": [],
   "source": [
    "users_test = get_file_yandex(\"https://disk.yandex.ru/d/4XXIME4osGrMRA\")\n",
    "users_control_1 = get_file_yandex(\"https://disk.yandex.ru/d/yJFydMNNGkEKfg\")\n",
    "users_control_2 = get_file_yandex(\"https://disk.yandex.ru/d/br6KkQupzzTGoQ\")\n",
    "transactions_test = get_file_yandex(\"https://disk.yandex.ru/d/gvCWpZ55ODzs2g\")\n",
    "transactions_control_1 = get_file_yandex(\"https://disk.yandex.ru/d/VY5W0keMX5TZBQ\")\n",
    "transactions_control_2 = get_file_yandex(\"https://disk.yandex.ru/d/th5GL0mGOc-qzg\")\n"
   ]
  },
  {
   "cell_type": "markdown",
   "metadata": {},
   "source": [
    "Всего есть три группы: тестовая (test), контрольная 1 (control_1) и контрольная 2 (control_2). Для каждой из них:\n",
    "\n",
    "**users** - информация о пользователях:\n",
    "\n",
    "- uid – идентификатор пользователя\n",
    "- age – возраст\n",
    "- attraction_coeff – коэффициент привлекательности\n",
    "- coins – число монеток (внутренняя валюта)\n",
    "- country – страна  \n",
    "- visit_days – в какие дни после регистрации пользователь посещал приложение (напр. в 1, затем в 7)\n",
    "- gender – пол\n",
    "- age_filter_start  – фильтр поиска, мин. значение \n",
    "- age_filter_end  – фильтр поиска, макс. значение \n",
    "- views_count – число полученных оценок \n",
    "- was_premium – был ли когда-либо премиум (либо пробный период премиум-статуса, либо купленный за деньги)\n",
    "- is_premium –  является ли премиум\n",
    "- total_revenue – нормированная выручка\n",
    "\n",
    "**transactions** – информация о платежах пользователей:\n",
    "\n",
    "- uid – идентификатор пользователя\n",
    "- country – страна\n",
    "- joined_at – дата и время регистрации\n",
    "- paid_at – дата и время покупки\n",
    "- revenue – нормированная выручка\n",
    "- payment_id – идентификатор платежа\n",
    "- from_page – откуда пользователь перешел на страницу оплаты\n",
    "- product_type – тип продукта (trial_premium – пробная премиум-подписка, premium_no_trial – премиум-подписка без пробной, coins – подписка за внутреннюю валюту, other_type – другое) "
   ]
  },
  {
   "cell_type": "markdown",
   "metadata": {},
   "source": [
    "# <center>Вопросы, на которые можно попробовать найти ответы:</center>\n",
    "    \n",
    "* Самое важное: Как изменилось количество прекращения подписок на сервис при изменении стоимости подписки. Сколько пользователей брали пробную подписку, сколько потом перешли на полную подписку\n",
    "* Как изменилась активность пользователей в контрольных группах (число монеток, визиты, коэфициент привлекательности)\n",
    "* Как меняются источник перехода (при оплате) при изменении функционала.\n",
    "* Есть ли разница по полу или возрасту среди тех кто покупает подписку в контрольной и тестовой группе.\n",
    "* Как меняется выручка при нововедениях\n",
    "\n",
    "\n",
    "\n",
    "\n"
   ]
  },
  {
   "cell_type": "markdown",
   "metadata": {},
   "source": [
    "### Проведение АА-теста на каждой метрике из контроля 1 и контроля 2"
   ]
  },
  {
   "cell_type": "markdown",
   "metadata": {},
   "source": [
    "# <center>Изучаем скачанные данные </center>"
   ]
  },
  {
   "cell_type": "markdown",
   "metadata": {},
   "source": [
    "### **1) users_test**\n",
    "\n",
    "информация о пользователях в тестовой группе. "
   ]
  },
  {
   "cell_type": "code",
   "execution_count": 304,
   "metadata": {},
   "outputs": [],
   "source": [
    "# Создаем столбцец с количеством дней посещения приложения\n",
    "users_test[\"count_visits\"] = users_test[\"visit_days\"].apply(\n",
    "    lambda x: x.count(\",\") + 1 if isinstance(x, str) else 0\n",
    ")\n",
    "users_test = users_test[\n",
    "    [\n",
    "        \"uid\",\n",
    "        \"age\",\n",
    "        \"gender\",\n",
    "        \"count_visits\",\n",
    "        \"was_premium\",\n",
    "        \"is_premium\",\n",
    "        \"total_revenue\",\n",
    "    ]\n",
    "]"
   ]
  },
  {
   "cell_type": "code",
   "execution_count": 305,
   "metadata": {
    "scrolled": true
   },
   "outputs": [
    {
     "data": {
      "text/plain": [
       "uid                int64\n",
       "age                int64\n",
       "gender             int64\n",
       "count_visits       int64\n",
       "was_premium      float64\n",
       "is_premium       float64\n",
       "total_revenue      int64\n",
       "dtype: object"
      ]
     },
     "execution_count": 305,
     "metadata": {},
     "output_type": "execute_result"
    }
   ],
   "source": [
    "users_test.dtypes"
   ]
  },
  {
   "cell_type": "code",
   "execution_count": 306,
   "metadata": {
    "scrolled": true
   },
   "outputs": [
    {
     "name": "stdout",
     "output_type": "stream",
     "text": [
      " - Размер таблицы: (4308, 7)\n",
      " - Названия колонок: uid, age, gender, count_visits, was_premium, is_premium, total_revenue\n",
      " - Кол-во строк с пустыми значениями:\n",
      "uid                 0\n",
      "age                 0\n",
      "gender              0\n",
      "count_visits        0\n",
      "was_premium      3900\n",
      "is_premium       4151\n",
      "total_revenue       0\n",
      "dtype: int64\n"
     ]
    }
   ],
   "source": [
    "print(\" - Размер таблицы: {}\".format(users_test.shape))\n",
    "columns_str = \", \".join(users_test.columns)\n",
    "print(\" - Названия колонок: {}\".format(columns_str))\n",
    "print(\" - Кол-во строк с пустыми значениями:\\n{}\".format(users_test.isnull().sum()))"
   ]
  },
  {
   "cell_type": "markdown",
   "metadata": {},
   "source": [
    "Выполняем замену пустых значений на 0, так как для проведения тестов отсутсвие данных о монетах/визитах/премиуме равносильно отсутствию монет/визитов/премиума"
   ]
  },
  {
   "cell_type": "code",
   "execution_count": 307,
   "metadata": {},
   "outputs": [],
   "source": [
    "users_test = users_test.fillna(0)"
   ]
  },
  {
   "cell_type": "markdown",
   "metadata": {},
   "source": [
    "### **2) users_control_1**\n",
    "\n",
    "информация о пользователях в первой контрольной группе. "
   ]
  },
  {
   "cell_type": "code",
   "execution_count": 308,
   "metadata": {},
   "outputs": [],
   "source": [
    "# Создаем столбцец с количеством дней посещения приложения\n",
    "users_control_1[\"count_visits\"] = users_control_1[\"visit_days\"].apply(\n",
    "    lambda x: x.count(\",\") + 1 if isinstance(x, str) else 0\n",
    ")\n",
    "users_control_1 = users_control_1[\n",
    "    [\n",
    "        \"uid\",\n",
    "        \"age\",\n",
    "        \"gender\",\n",
    "        \"count_visits\",\n",
    "        \"was_premium\",\n",
    "        \"is_premium\",\n",
    "        \"total_revenue\",\n",
    "    ]\n",
    "]\n"
   ]
  },
  {
   "cell_type": "code",
   "execution_count": 309,
   "metadata": {
    "scrolled": true
   },
   "outputs": [
    {
     "name": "stdout",
     "output_type": "stream",
     "text": [
      " - Размер таблицы: (4340, 7)\n",
      " - Названия колонок: uid, age, gender, count_visits, was_premium, is_premium, total_revenue\n",
      " - Кол-во строк с пустыми значениями:\n",
      "uid                 0\n",
      "age                 0\n",
      "gender              0\n",
      "count_visits        0\n",
      "was_premium      3904\n",
      "is_premium       4148\n",
      "total_revenue       0\n",
      "dtype: int64\n"
     ]
    }
   ],
   "source": [
    "print(\" - Размер таблицы: {}\".format(users_control_1.shape))\n",
    "columns_str = \", \".join(users_control_1.columns)\n",
    "print(\" - Названия колонок: {}\".format(columns_str))\n",
    "print(\" - Кол-во строк с пустыми значениями:\\n{}\".format(users_control_1.isnull().sum()))"
   ]
  },
  {
   "cell_type": "markdown",
   "metadata": {},
   "source": [
    "Выполняем замену пустых значений на 0, так как для проведения тестов отсутсвие данных о монетах/визитах/премиуме равносильно отсутствию монет/визитов/премиума"
   ]
  },
  {
   "cell_type": "code",
   "execution_count": 310,
   "metadata": {},
   "outputs": [],
   "source": [
    "users_control_1 = users_control_1.fillna(0)"
   ]
  },
  {
   "cell_type": "markdown",
   "metadata": {},
   "source": [
    "### 3) **users_control_2**\n",
    "\n",
    "информация о пользователях во второй контрольной группе ."
   ]
  },
  {
   "cell_type": "code",
   "execution_count": 311,
   "metadata": {},
   "outputs": [],
   "source": [
    "# Создаем столбцец с количеством дней посещения приложения\n",
    "users_control_2[\"count_visits\"] = users_control_2[\"visit_days\"].apply(\n",
    "    lambda x: x.count(\",\") + 1 if isinstance(x, str) else 0\n",
    ")\n",
    "users_control_2 = users_control_2[\n",
    "    [\n",
    "        \"uid\",\n",
    "        \"age\",\n",
    "        \"gender\",\n",
    "        \"count_visits\",\n",
    "        \"was_premium\",\n",
    "        \"is_premium\",\n",
    "        \"total_revenue\",\n",
    "    ]\n",
    "]\n"
   ]
  },
  {
   "cell_type": "code",
   "execution_count": 312,
   "metadata": {
    "scrolled": false
   },
   "outputs": [
    {
     "name": "stdout",
     "output_type": "stream",
     "text": [
      " - Размер таблицы: (4264, 7)\n",
      " - Названия колонок: uid, age, gender, count_visits, was_premium, is_premium, total_revenue\n",
      " - Кол-во строк с пустыми значениями:\n",
      "uid                 0\n",
      "age                 0\n",
      "gender              0\n",
      "count_visits        0\n",
      "was_premium      3853\n",
      "is_premium       4073\n",
      "total_revenue       0\n",
      "dtype: int64\n"
     ]
    }
   ],
   "source": [
    "print(\" - Размер таблицы: {}\".format(users_control_2.shape))\n",
    "columns_str = \", \".join(users_control_2.columns)\n",
    "print(\" - Названия колонок: {}\".format(columns_str))\n",
    "print(\" - Кол-во строк с пустыми значениями:\\n{}\".format(users_control_2.isnull().sum()))"
   ]
  },
  {
   "cell_type": "markdown",
   "metadata": {},
   "source": [
    "Выполняем замену пустых значений на 0, так как для проведения тестов отсутсвие данных о монетах/визитах/премиуме равносильно отсутствию монет/визитов/премиума"
   ]
  },
  {
   "cell_type": "code",
   "execution_count": 313,
   "metadata": {},
   "outputs": [],
   "source": [
    "users_control_2 = users_control_2.fillna(0)"
   ]
  },
  {
   "cell_type": "markdown",
   "metadata": {},
   "source": [
    "### Проведение АА теста"
   ]
  },
  {
   "cell_type": "code",
   "execution_count": 315,
   "metadata": {},
   "outputs": [
    {
     "name": "stdout",
     "output_type": "stream",
     "text": [
      "Metric: uid\n",
      "Statistic: 9443285.0\n",
      "P-value: 0.09835714261125722\n",
      " - Метрика uid сходится\n",
      "Metric: age\n",
      "Statistic: 9283252.5\n",
      "P-value: 0.7919291369256963\n",
      " - Метрика age сходится\n",
      "Metric: gender\n",
      "Statistic: 9288006.0\n",
      "P-value: 0.3897517820502171\n",
      " - Метрика gender сходится\n",
      "Metric: count_visits\n",
      "Statistic: 9448306.0\n",
      "P-value: 0.0839835081866715\n",
      " - Метрика count_visits сходится\n",
      "Metric: was_premium\n",
      "Statistic: 9290562.0\n",
      "P-value: 0.5261267239895926\n",
      " - Метрика was_premium сходится\n",
      "Metric: is_premium\n",
      "Statistic: 9247754.0\n",
      "P-value: 0.9008724825654149\n",
      " - Метрика is_premium сходится\n",
      "Metric: total_revenue\n",
      "Statistic: 9257464.0\n",
      "P-value: 0.9108956670341875\n",
      " - Метрика total_revenue сходится\n"
     ]
    }
   ],
   "source": [
    "for metric in users_control_1.columns:\n",
    "\n",
    "    values1 = users_control_1[metric]\n",
    "    values2 = users_control_2[metric]\n",
    "\n",
    "    statistic, p_value = mannwhitneyu(values1, values2)\n",
    "\n",
    "    print(\"Metric:\", metric)\n",
    "    print(\"Statistic:\", statistic)\n",
    "    print(\"P-value:\", p_value)\n",
    "\n",
    "    if p_value > 0.05:\n",
    "        print(\" - Метрика\", metric, \"сходится\")\n",
    "    else:\n",
    "        print(\" - Метрика\", metric, \"не сходится\")\n"
   ]
  },
  {
   "cell_type": "markdown",
   "metadata": {},
   "source": [
    "Контроль 1 и Контроль 2 можно объединить"
   ]
  },
  {
   "cell_type": "markdown",
   "metadata": {},
   "source": [
    "### 4) **transactions_test**\n",
    "\n",
    "формация о платежах пользователей в тестовой группе"
   ]
  },
  {
   "cell_type": "code",
   "execution_count": 316,
   "metadata": {},
   "outputs": [
    {
     "name": "stdout",
     "output_type": "stream",
     "text": [
      " - Размер таблицы: (273, 8)\n",
      " - Названия колонок: uid, country, joined_at, paid_at, revenue, payment_id, from_page, product_type\n",
      " - Кол-во строк с пустыми значениями:\n",
      "uid             0\n",
      "country         0\n",
      "joined_at       0\n",
      "paid_at         0\n",
      "revenue         0\n",
      "payment_id      0\n",
      "from_page       0\n",
      "product_type    0\n",
      "dtype: int64\n"
     ]
    }
   ],
   "source": [
    "print(\" - Размер таблицы: {}\".format(transactions_test.shape))\n",
    "columns_str = \", \".join(transactions_test.columns)\n",
    "print(\" - Названия колонок: {}\".format(columns_str))\n",
    "print(\" - Кол-во строк с пустыми значениями:\\n{}\".format(transactions_test.isnull().sum()))"
   ]
  },
  {
   "cell_type": "code",
   "execution_count": 324,
   "metadata": {
    "scrolled": true
   },
   "outputs": [],
   "source": [
    "# Исправляем форматы\n",
    "transactions_test[\"joined_at\"] = pd.to_datetime(transactions_test[\"joined_at\"])\n",
    "transactions_test[\"paid_at\"] = pd.to_datetime(transactions_test[\"paid_at\"])"
   ]
  },
  {
   "cell_type": "code",
   "execution_count": 326,
   "metadata": {},
   "outputs": [],
   "source": [
    "transactions_test[\"days\"] = (\n",
    "    transactions_test[\"paid_at\"] - transactions_test[\"joined_at\"]\n",
    ")\n",
    "transactions_test[\"days\"] = pd.to_timedelta(transactions_test[\"days\"])\n",
    "transactions_test = transactions_test.loc[transactions_test[\"days\"] > pd.Timedelta(0)]\n",
    "# Выбрасываем из анализа отрицательное количество дней"
   ]
  },
  {
   "cell_type": "markdown",
   "metadata": {},
   "source": [
    "### 5) **transactions_control_1**\n",
    "\n",
    "информация о платежах пользователей в первой контрольной"
   ]
  },
  {
   "cell_type": "code",
   "execution_count": 333,
   "metadata": {},
   "outputs": [
    {
     "name": "stdout",
     "output_type": "stream",
     "text": [
      " - Размер таблицы: (322, 9)\n",
      " - Названия колонок: uid, country, joined_at, paid_at, revenue, payment_id, from_page, product_type, days\n",
      " - Кол-во строк с пустыми значениями:\n",
      "uid             0\n",
      "country         0\n",
      "joined_at       0\n",
      "paid_at         0\n",
      "revenue         0\n",
      "payment_id      0\n",
      "from_page       0\n",
      "product_type    0\n",
      "days            0\n",
      "dtype: int64\n"
     ]
    }
   ],
   "source": [
    "print(\" - Размер таблицы: {}\".format(transactions_control_1.shape))\n",
    "columns_str = \", \".join(transactions_control_1.columns)\n",
    "print(\" - Названия колонок: {}\".format(columns_str))\n",
    "print(\n",
    "    \" - Кол-во строк с пустыми значениями:\\n{}\".format(\n",
    "        transactions_control_1.isnull().sum()\n",
    "    )\n",
    ")\n"
   ]
  },
  {
   "cell_type": "code",
   "execution_count": 334,
   "metadata": {},
   "outputs": [],
   "source": [
    "# Исправляем форматы\n",
    "transactions_control_1[\"joined_at\"] = pd.to_datetime(transactions_control_1[\"joined_at\"])\n",
    "transactions_control_1[\"paid_at\"] = pd.to_datetime(transactions_control_1[\"paid_at\"])"
   ]
  },
  {
   "cell_type": "code",
   "execution_count": 335,
   "metadata": {},
   "outputs": [],
   "source": [
    "transactions_control_1[\"days\"] = (\n",
    "    transactions_control_1[\"paid_at\"] - transactions_control_1[\"joined_at\"]\n",
    ")\n",
    "transactions_control_1[\"days\"] = pd.to_timedelta(transactions_control_1[\"days\"])\n",
    "transactions_control_1 = transactions_control_1.loc[\n",
    "    transactions_control_1[\"days\"] > pd.Timedelta(0)\n",
    "]\n",
    "# Выбрасываем из анализа отрицательное количество дней\n"
   ]
  },
  {
   "cell_type": "code",
   "execution_count": 336,
   "metadata": {
    "scrolled": false
   },
   "outputs": [
    {
     "name": "stdout",
     "output_type": "stream",
     "text": [
      " - НОВЫЙ Размер таблицы: (322, 9)\n",
      " - Кол-во строк с пустыми значениями:\n",
      "uid             0\n",
      "country         0\n",
      "joined_at       0\n",
      "paid_at         0\n",
      "revenue         0\n",
      "payment_id      0\n",
      "from_page       0\n",
      "product_type    0\n",
      "days            0\n",
      "dtype: int64\n"
     ]
    }
   ],
   "source": [
    "# Выясняем, что есть большое количество пустых строк, где есть только данные о времени и другой информации нет.\n",
    "# Эти строки лучше удалить\n",
    "transactions_control_1 = transactions_control_1.dropna()\n",
    "print(\" - НОВЫЙ Размер таблицы: {}\".format(transactions_control_1.shape))\n",
    "print(\n",
    "    \" - Кол-во строк с пустыми значениями:\\n{}\".format(\n",
    "        transactions_control_1.isnull().sum()\n",
    "    )\n",
    ")\n"
   ]
  },
  {
   "cell_type": "markdown",
   "metadata": {},
   "source": [
    "### 6) **transactions_control_2**"
   ]
  },
  {
   "cell_type": "code",
   "execution_count": 332,
   "metadata": {},
   "outputs": [
    {
     "name": "stdout",
     "output_type": "stream",
     "text": [
      " - Размер таблицы: (328, 8)\n",
      " - Названия колонок: uid, country, joined_at, paid_at, revenue, payment_id, from_page, product_type\n",
      " - Кол-во строк с пустыми значениями:\n",
      "uid             0\n",
      "country         0\n",
      "joined_at       0\n",
      "paid_at         0\n",
      "revenue         0\n",
      "payment_id      0\n",
      "from_page       0\n",
      "product_type    0\n",
      "dtype: int64\n"
     ]
    }
   ],
   "source": [
    "print(\" - Размер таблицы: {}\".format(transactions_control_2.shape))\n",
    "columns_str = \", \".join(transactions_control_2.columns)\n",
    "print(\" - Названия колонок: {}\".format(columns_str))\n",
    "print(\n",
    "    \" - Кол-во строк с пустыми значениями:\\n{}\".format(\n",
    "        transactions_control_2.isnull().sum()\n",
    "    )\n",
    ")\n"
   ]
  },
  {
   "cell_type": "code",
   "execution_count": 337,
   "metadata": {},
   "outputs": [],
   "source": [
    "# Исправляем форматы\n",
    "transactions_control_2[\"joined_at\"] = pd.to_datetime(\n",
    "    transactions_control_2[\"joined_at\"]\n",
    ")\n",
    "transactions_control_2[\"paid_at\"] = pd.to_datetime(transactions_control_2[\"paid_at\"])\n",
    "transactions_control_2[\"uid\"] = transactions_control_2[\"uid\"].astype(\"object\")\n"
   ]
  },
  {
   "cell_type": "code",
   "execution_count": 338,
   "metadata": {},
   "outputs": [],
   "source": [
    "transactions_control_2[\"days\"] = (\n",
    "    transactions_control_2[\"paid_at\"] - transactions_control_2[\"joined_at\"]\n",
    ")\n",
    "transactions_control_2[\"days\"] = pd.to_timedelta(transactions_control_2[\"days\"])\n",
    "transactions_control_2 = transactions_control_2.loc[\n",
    "    transactions_control_2[\"days\"] > pd.Timedelta(0)\n",
    "]\n",
    "# Выбрасываем из анализа отрицательное количество дней\n"
   ]
  },
  {
   "cell_type": "markdown",
   "metadata": {},
   "source": [
    "**Мерджим данные для дальнейшего исследования**"
   ]
  },
  {
   "cell_type": "code",
   "execution_count": 339,
   "metadata": {},
   "outputs": [],
   "source": [
    "user_control = pd.concat([users_control_1, users_control_1])\n",
    "transactions_control = pd.concat([transactions_control_1, transactions_control_2])\n",
    "\n",
    "test = users_test.merge(transactions_test, on=\"uid\", how=\"left\")\n",
    "control = user_control.merge(transactions_control, on=\"uid\", how=\"left\")\n"
   ]
  },
  {
   "cell_type": "code",
   "execution_count": 340,
   "metadata": {},
   "outputs": [],
   "source": [
    "# Исправляем форматы\n",
    "test[\"joined_at\"] = pd.to_datetime(transactions_control_2[\"joined_at\"])\n",
    "test[\"paid_at\"] = pd.to_datetime(transactions_control_2[\"paid_at\"])\n",
    "\n",
    "control[\"joined_at\"] = pd.to_datetime(transactions_control_2[\"joined_at\"])\n",
    "control[\"paid_at\"] = pd.to_datetime(transactions_control_2[\"paid_at\"])\n"
   ]
  },
  {
   "cell_type": "code",
   "execution_count": 341,
   "metadata": {},
   "outputs": [],
   "source": [
    "test[\"gender\"] = test[\"gender\"].astype(\"object\")\n",
    "test[\"gender\"] = test[\"gender\"].replace(0, \"женский пол\")\n",
    "test[\"gender\"] = test[\"gender\"].replace(1, \"мужской пол\")\n"
   ]
  },
  {
   "cell_type": "code",
   "execution_count": 342,
   "metadata": {},
   "outputs": [],
   "source": [
    "control[\"gender\"] = control[\"gender\"].astype(\"object\")\n",
    "control[\"gender\"] = control[\"gender\"].replace(0, \"женский пол\")\n",
    "control[\"gender\"] = control[\"gender\"].replace(1, \"мужской пол\")\n"
   ]
  },
  {
   "cell_type": "markdown",
   "metadata": {},
   "source": [
    "### Описательные статистики "
   ]
  },
  {
   "cell_type": "code",
   "execution_count": 343,
   "metadata": {
    "scrolled": false
   },
   "outputs": [
    {
     "data": {
      "text/html": [
       "<div>\n",
       "<style scoped>\n",
       "    .dataframe tbody tr th:only-of-type {\n",
       "        vertical-align: middle;\n",
       "    }\n",
       "\n",
       "    .dataframe tbody tr th {\n",
       "        vertical-align: top;\n",
       "    }\n",
       "\n",
       "    .dataframe thead th {\n",
       "        text-align: right;\n",
       "    }\n",
       "</style>\n",
       "<table border=\"1\" class=\"dataframe\">\n",
       "  <thead>\n",
       "    <tr style=\"text-align: right;\">\n",
       "      <th></th>\n",
       "      <th>uid</th>\n",
       "      <th>age</th>\n",
       "      <th>count_visits</th>\n",
       "      <th>was_premium</th>\n",
       "      <th>is_premium</th>\n",
       "      <th>total_revenue</th>\n",
       "      <th>revenue</th>\n",
       "      <th>payment_id</th>\n",
       "      <th>days</th>\n",
       "    </tr>\n",
       "  </thead>\n",
       "  <tbody>\n",
       "    <tr>\n",
       "      <th>count</th>\n",
       "      <td>4.406000e+03</td>\n",
       "      <td>4406.000000</td>\n",
       "      <td>4406.000000</td>\n",
       "      <td>4406.000000</td>\n",
       "      <td>4406.000000</td>\n",
       "      <td>4406.000000</td>\n",
       "      <td>226.000000</td>\n",
       "      <td>226.000000</td>\n",
       "      <td>226</td>\n",
       "    </tr>\n",
       "    <tr>\n",
       "      <th>mean</th>\n",
       "      <td>8.917464e+08</td>\n",
       "      <td>31.892873</td>\n",
       "      <td>4.840218</td>\n",
       "      <td>0.114389</td>\n",
       "      <td>0.055606</td>\n",
       "      <td>1337.394916</td>\n",
       "      <td>8598.004425</td>\n",
       "      <td>98.778761</td>\n",
       "      <td>34 days 22:19:53.362831858</td>\n",
       "    </tr>\n",
       "    <tr>\n",
       "      <th>std</th>\n",
       "      <td>4.539038e+05</td>\n",
       "      <td>10.296506</td>\n",
       "      <td>6.487944</td>\n",
       "      <td>0.318320</td>\n",
       "      <td>0.229185</td>\n",
       "      <td>8463.768426</td>\n",
       "      <td>11800.762903</td>\n",
       "      <td>57.116681</td>\n",
       "      <td>66 days 14:59:08.004857572</td>\n",
       "    </tr>\n",
       "    <tr>\n",
       "      <th>min</th>\n",
       "      <td>8.910511e+08</td>\n",
       "      <td>16.000000</td>\n",
       "      <td>0.000000</td>\n",
       "      <td>0.000000</td>\n",
       "      <td>0.000000</td>\n",
       "      <td>0.000000</td>\n",
       "      <td>533.000000</td>\n",
       "      <td>0.000000</td>\n",
       "      <td>0 days 00:02:00</td>\n",
       "    </tr>\n",
       "    <tr>\n",
       "      <th>25%</th>\n",
       "      <td>8.913623e+08</td>\n",
       "      <td>25.000000</td>\n",
       "      <td>0.000000</td>\n",
       "      <td>0.000000</td>\n",
       "      <td>0.000000</td>\n",
       "      <td>0.000000</td>\n",
       "      <td>2733.250000</td>\n",
       "      <td>19.000000</td>\n",
       "      <td>0 days 06:59:00</td>\n",
       "    </tr>\n",
       "    <tr>\n",
       "      <th>50%</th>\n",
       "      <td>8.917357e+08</td>\n",
       "      <td>30.000000</td>\n",
       "      <td>2.000000</td>\n",
       "      <td>0.000000</td>\n",
       "      <td>0.000000</td>\n",
       "      <td>0.000000</td>\n",
       "      <td>6305.000000</td>\n",
       "      <td>146.000000</td>\n",
       "      <td>4 days 22:02:30</td>\n",
       "    </tr>\n",
       "    <tr>\n",
       "      <th>75%</th>\n",
       "      <td>8.920972e+08</td>\n",
       "      <td>38.000000</td>\n",
       "      <td>7.000000</td>\n",
       "      <td>0.000000</td>\n",
       "      <td>0.000000</td>\n",
       "      <td>0.000000</td>\n",
       "      <td>12597.000000</td>\n",
       "      <td>147.000000</td>\n",
       "      <td>29 days 22:04:15</td>\n",
       "    </tr>\n",
       "    <tr>\n",
       "      <th>max</th>\n",
       "      <td>9.051586e+08</td>\n",
       "      <td>99.000000</td>\n",
       "      <td>31.000000</td>\n",
       "      <td>1.000000</td>\n",
       "      <td>1.000000</td>\n",
       "      <td>129870.000000</td>\n",
       "      <td>113477.000000</td>\n",
       "      <td>147.000000</td>\n",
       "      <td>302 days 00:42:00</td>\n",
       "    </tr>\n",
       "  </tbody>\n",
       "</table>\n",
       "</div>"
      ],
      "text/plain": [
       "                uid          age  count_visits  was_premium   is_premium  \\\n",
       "count  4.406000e+03  4406.000000   4406.000000  4406.000000  4406.000000   \n",
       "mean   8.917464e+08    31.892873      4.840218     0.114389     0.055606   \n",
       "std    4.539038e+05    10.296506      6.487944     0.318320     0.229185   \n",
       "min    8.910511e+08    16.000000      0.000000     0.000000     0.000000   \n",
       "25%    8.913623e+08    25.000000      0.000000     0.000000     0.000000   \n",
       "50%    8.917357e+08    30.000000      2.000000     0.000000     0.000000   \n",
       "75%    8.920972e+08    38.000000      7.000000     0.000000     0.000000   \n",
       "max    9.051586e+08    99.000000     31.000000     1.000000     1.000000   \n",
       "\n",
       "       total_revenue        revenue  payment_id                        days  \n",
       "count    4406.000000     226.000000  226.000000                         226  \n",
       "mean     1337.394916    8598.004425   98.778761  34 days 22:19:53.362831858  \n",
       "std      8463.768426   11800.762903   57.116681  66 days 14:59:08.004857572  \n",
       "min         0.000000     533.000000    0.000000             0 days 00:02:00  \n",
       "25%         0.000000    2733.250000   19.000000             0 days 06:59:00  \n",
       "50%         0.000000    6305.000000  146.000000             4 days 22:02:30  \n",
       "75%         0.000000   12597.000000  147.000000            29 days 22:04:15  \n",
       "max    129870.000000  113477.000000  147.000000           302 days 00:42:00  "
      ]
     },
     "execution_count": 343,
     "metadata": {},
     "output_type": "execute_result"
    }
   ],
   "source": [
    "test.describe()"
   ]
  },
  {
   "cell_type": "code",
   "execution_count": 344,
   "metadata": {
    "scrolled": false
   },
   "outputs": [
    {
     "data": {
      "text/html": [
       "<div>\n",
       "<style scoped>\n",
       "    .dataframe tbody tr th:only-of-type {\n",
       "        vertical-align: middle;\n",
       "    }\n",
       "\n",
       "    .dataframe tbody tr th {\n",
       "        vertical-align: top;\n",
       "    }\n",
       "\n",
       "    .dataframe thead th {\n",
       "        text-align: right;\n",
       "    }\n",
       "</style>\n",
       "<table border=\"1\" class=\"dataframe\">\n",
       "  <thead>\n",
       "    <tr style=\"text-align: right;\">\n",
       "      <th></th>\n",
       "      <th>age</th>\n",
       "      <th>count_visits</th>\n",
       "      <th>was_premium</th>\n",
       "      <th>is_premium</th>\n",
       "      <th>total_revenue</th>\n",
       "      <th>revenue</th>\n",
       "      <th>payment_id</th>\n",
       "      <th>days</th>\n",
       "    </tr>\n",
       "  </thead>\n",
       "  <tbody>\n",
       "    <tr>\n",
       "      <th>count</th>\n",
       "      <td>8986.000000</td>\n",
       "      <td>8986.000000</td>\n",
       "      <td>8986.000000</td>\n",
       "      <td>8986.000000</td>\n",
       "      <td>8986.000000</td>\n",
       "      <td>644.000000</td>\n",
       "      <td>644.000000</td>\n",
       "      <td>644</td>\n",
       "    </tr>\n",
       "    <tr>\n",
       "      <th>mean</th>\n",
       "      <td>31.980859</td>\n",
       "      <td>4.907634</td>\n",
       "      <td>0.128422</td>\n",
       "      <td>0.069441</td>\n",
       "      <td>4001.809704</td>\n",
       "      <td>7116.409938</td>\n",
       "      <td>90.807453</td>\n",
       "      <td>43 days 04:27:10.993788820</td>\n",
       "    </tr>\n",
       "    <tr>\n",
       "      <th>std</th>\n",
       "      <td>10.207817</td>\n",
       "      <td>6.508941</td>\n",
       "      <td>0.334578</td>\n",
       "      <td>0.254217</td>\n",
       "      <td>37890.013146</td>\n",
       "      <td>8500.248180</td>\n",
       "      <td>58.253643</td>\n",
       "      <td>89 days 14:26:53.807448428</td>\n",
       "    </tr>\n",
       "    <tr>\n",
       "      <th>min</th>\n",
       "      <td>16.000000</td>\n",
       "      <td>0.000000</td>\n",
       "      <td>0.000000</td>\n",
       "      <td>0.000000</td>\n",
       "      <td>0.000000</td>\n",
       "      <td>26.000000</td>\n",
       "      <td>0.000000</td>\n",
       "      <td>0 days 00:03:00</td>\n",
       "    </tr>\n",
       "    <tr>\n",
       "      <th>25%</th>\n",
       "      <td>24.000000</td>\n",
       "      <td>0.000000</td>\n",
       "      <td>0.000000</td>\n",
       "      <td>0.000000</td>\n",
       "      <td>0.000000</td>\n",
       "      <td>2730.000000</td>\n",
       "      <td>19.000000</td>\n",
       "      <td>0 days 08:46:00</td>\n",
       "    </tr>\n",
       "    <tr>\n",
       "      <th>50%</th>\n",
       "      <td>30.000000</td>\n",
       "      <td>2.000000</td>\n",
       "      <td>0.000000</td>\n",
       "      <td>0.000000</td>\n",
       "      <td>0.000000</td>\n",
       "      <td>5895.500000</td>\n",
       "      <td>127.000000</td>\n",
       "      <td>6 days 16:11:00</td>\n",
       "    </tr>\n",
       "    <tr>\n",
       "      <th>75%</th>\n",
       "      <td>38.000000</td>\n",
       "      <td>7.000000</td>\n",
       "      <td>0.000000</td>\n",
       "      <td>0.000000</td>\n",
       "      <td>0.000000</td>\n",
       "      <td>6448.000000</td>\n",
       "      <td>147.000000</td>\n",
       "      <td>43 days 08:35:00</td>\n",
       "    </tr>\n",
       "    <tr>\n",
       "      <th>max</th>\n",
       "      <td>99.000000</td>\n",
       "      <td>31.000000</td>\n",
       "      <td>1.000000</td>\n",
       "      <td>1.000000</td>\n",
       "      <td>486330.000000</td>\n",
       "      <td>63037.000000</td>\n",
       "      <td>147.000000</td>\n",
       "      <td>695 days 05:46:00</td>\n",
       "    </tr>\n",
       "  </tbody>\n",
       "</table>\n",
       "</div>"
      ],
      "text/plain": [
       "               age  count_visits  was_premium   is_premium  total_revenue  \\\n",
       "count  8986.000000   8986.000000  8986.000000  8986.000000    8986.000000   \n",
       "mean     31.980859      4.907634     0.128422     0.069441    4001.809704   \n",
       "std      10.207817      6.508941     0.334578     0.254217   37890.013146   \n",
       "min      16.000000      0.000000     0.000000     0.000000       0.000000   \n",
       "25%      24.000000      0.000000     0.000000     0.000000       0.000000   \n",
       "50%      30.000000      2.000000     0.000000     0.000000       0.000000   \n",
       "75%      38.000000      7.000000     0.000000     0.000000       0.000000   \n",
       "max      99.000000     31.000000     1.000000     1.000000  486330.000000   \n",
       "\n",
       "            revenue  payment_id                        days  \n",
       "count    644.000000  644.000000                         644  \n",
       "mean    7116.409938   90.807453  43 days 04:27:10.993788820  \n",
       "std     8500.248180   58.253643  89 days 14:26:53.807448428  \n",
       "min       26.000000    0.000000             0 days 00:03:00  \n",
       "25%     2730.000000   19.000000             0 days 08:46:00  \n",
       "50%     5895.500000  127.000000             6 days 16:11:00  \n",
       "75%     6448.000000  147.000000            43 days 08:35:00  \n",
       "max    63037.000000  147.000000           695 days 05:46:00  "
      ]
     },
     "execution_count": 344,
     "metadata": {},
     "output_type": "execute_result"
    }
   ],
   "source": [
    "control.describe()"
   ]
  },
  {
   "cell_type": "code",
   "execution_count": 346,
   "metadata": {},
   "outputs": [
    {
     "data": {
      "text/html": [
       "<div>\n",
       "<style scoped>\n",
       "    .dataframe tbody tr th:only-of-type {\n",
       "        vertical-align: middle;\n",
       "    }\n",
       "\n",
       "    .dataframe tbody tr th {\n",
       "        vertical-align: top;\n",
       "    }\n",
       "\n",
       "    .dataframe thead th {\n",
       "        text-align: right;\n",
       "    }\n",
       "</style>\n",
       "<table border=\"1\" class=\"dataframe\">\n",
       "  <thead>\n",
       "    <tr style=\"text-align: right;\">\n",
       "      <th></th>\n",
       "      <th>gender</th>\n",
       "      <th>country</th>\n",
       "      <th>from_page</th>\n",
       "      <th>product_type</th>\n",
       "    </tr>\n",
       "  </thead>\n",
       "  <tbody>\n",
       "    <tr>\n",
       "      <th>count</th>\n",
       "      <td>4406</td>\n",
       "      <td>226</td>\n",
       "      <td>226</td>\n",
       "      <td>226</td>\n",
       "    </tr>\n",
       "    <tr>\n",
       "      <th>unique</th>\n",
       "      <td>2</td>\n",
       "      <td>16</td>\n",
       "      <td>20</td>\n",
       "      <td>4</td>\n",
       "    </tr>\n",
       "    <tr>\n",
       "      <th>top</th>\n",
       "      <td>мужской пол</td>\n",
       "      <td>United States of America</td>\n",
       "      <td>empty_likes</td>\n",
       "      <td>coins</td>\n",
       "    </tr>\n",
       "    <tr>\n",
       "      <th>freq</th>\n",
       "      <td>4204</td>\n",
       "      <td>82</td>\n",
       "      <td>64</td>\n",
       "      <td>88</td>\n",
       "    </tr>\n",
       "  </tbody>\n",
       "</table>\n",
       "</div>"
      ],
      "text/plain": [
       "             gender                   country    from_page product_type\n",
       "count          4406                       226          226          226\n",
       "unique            2                        16           20            4\n",
       "top     мужской пол  United States of America  empty_likes        coins\n",
       "freq           4204                        82           64           88"
      ]
     },
     "execution_count": 346,
     "metadata": {},
     "output_type": "execute_result"
    }
   ],
   "source": [
    "test.describe(include=\"object\")"
   ]
  },
  {
   "cell_type": "code",
   "execution_count": 347,
   "metadata": {
    "scrolled": true
   },
   "outputs": [
    {
     "data": {
      "text/html": [
       "<div>\n",
       "<style scoped>\n",
       "    .dataframe tbody tr th:only-of-type {\n",
       "        vertical-align: middle;\n",
       "    }\n",
       "\n",
       "    .dataframe tbody tr th {\n",
       "        vertical-align: top;\n",
       "    }\n",
       "\n",
       "    .dataframe thead th {\n",
       "        text-align: right;\n",
       "    }\n",
       "</style>\n",
       "<table border=\"1\" class=\"dataframe\">\n",
       "  <thead>\n",
       "    <tr style=\"text-align: right;\">\n",
       "      <th></th>\n",
       "      <th>uid</th>\n",
       "      <th>gender</th>\n",
       "      <th>country</th>\n",
       "      <th>from_page</th>\n",
       "      <th>product_type</th>\n",
       "    </tr>\n",
       "  </thead>\n",
       "  <tbody>\n",
       "    <tr>\n",
       "      <th>count</th>\n",
       "      <td>8986</td>\n",
       "      <td>8986</td>\n",
       "      <td>644</td>\n",
       "      <td>644</td>\n",
       "      <td>644</td>\n",
       "    </tr>\n",
       "    <tr>\n",
       "      <th>unique</th>\n",
       "      <td>4340</td>\n",
       "      <td>2</td>\n",
       "      <td>18</td>\n",
       "      <td>25</td>\n",
       "      <td>4</td>\n",
       "    </tr>\n",
       "    <tr>\n",
       "      <th>top</th>\n",
       "      <td>892333905</td>\n",
       "      <td>мужской пол</td>\n",
       "      <td>United States of America</td>\n",
       "      <td>empty_likes</td>\n",
       "      <td>coins</td>\n",
       "    </tr>\n",
       "    <tr>\n",
       "      <th>freq</th>\n",
       "      <td>54</td>\n",
       "      <td>8622</td>\n",
       "      <td>188</td>\n",
       "      <td>168</td>\n",
       "      <td>250</td>\n",
       "    </tr>\n",
       "  </tbody>\n",
       "</table>\n",
       "</div>"
      ],
      "text/plain": [
       "              uid       gender                   country    from_page  \\\n",
       "count        8986         8986                       644          644   \n",
       "unique       4340            2                        18           25   \n",
       "top     892333905  мужской пол  United States of America  empty_likes   \n",
       "freq           54         8622                       188          168   \n",
       "\n",
       "       product_type  \n",
       "count           644  \n",
       "unique            4  \n",
       "top           coins  \n",
       "freq            250  "
      ]
     },
     "execution_count": 347,
     "metadata": {},
     "output_type": "execute_result"
    }
   ],
   "source": [
    "control.describe(include='object')"
   ]
  },
  {
   "cell_type": "code",
   "execution_count": 348,
   "metadata": {},
   "outputs": [
    {
     "name": "stdout",
     "output_type": "stream",
     "text": [
      "2017-10-30 19:29:00\n",
      "2017-01-11 08:36:00\n",
      "292 days 10:53:00\n",
      "2017-10-30 19:29:00\n",
      "2017-01-11 08:36:00\n",
      "292 days 10:53:00\n"
     ]
    }
   ],
   "source": [
    "print(test.joined_at.max())\n",
    "print(test.joined_at.min())\n",
    "print(test.joined_at.max() - test.joined_at.min())\n",
    "\n",
    "print(control.joined_at.max())\n",
    "print(control.joined_at.min())\n",
    "print(control.joined_at.max() - test.joined_at.min())"
   ]
  },
  {
   "cell_type": "code",
   "execution_count": 353,
   "metadata": {
    "scrolled": true
   },
   "outputs": [
    {
     "data": {
      "text/plain": [
       "не пробовал премиум и нет сейчас                                    3902\n",
       "сейчас не премиум-подписчкик, но когда-то был                        259\n",
       "остался премиумом как и был (возможно смена пробного на премиум)     245\n",
       "Name: status, dtype: int64"
      ]
     },
     "execution_count": 353,
     "metadata": {},
     "output_type": "execute_result"
    }
   ],
   "source": [
    "test = apply_conditions(test)\n",
    "test.status.value_counts()"
   ]
  },
  {
   "cell_type": "code",
   "execution_count": 354,
   "metadata": {},
   "outputs": [
    {
     "data": {
      "text/plain": [
       "не пробовал премиум и нет сейчас                                    7832\n",
       "остался премиумом как и был (возможно смена пробного на премиум)     624\n",
       "сейчас не премиум-подписчкик, но когда-то был                        530\n",
       "Name: status, dtype: int64"
      ]
     },
     "execution_count": 354,
     "metadata": {},
     "output_type": "execute_result"
    }
   ],
   "source": [
    "control = apply_conditions(control)\n",
    "control.status.value_counts()"
   ]
  },
  {
   "cell_type": "code",
   "execution_count": 355,
   "metadata": {},
   "outputs": [
    {
     "name": "stdout",
     "output_type": "stream",
     "text": [
      "0.05560599182932365\n",
      "0.06944135321611396\n"
     ]
    }
   ],
   "source": [
    "print(test.is_premium.sum() / test.is_premium.count())\n",
    "print(control.is_premium.sum() / control.is_premium.count())"
   ]
  },
  {
   "cell_type": "code",
   "execution_count": 356,
   "metadata": {},
   "outputs": [
    {
     "data": {
      "image/png": "[encoded data removed]",
      "text/plain": [
       "<Figure size 1440x360 with 2 Axes>"
      ]
     },
     "metadata": {
      "needs_background": "light"
     },
     "output_type": "display_data"
    }
   ],
   "source": [
    "mean_value_test = round(users_test[\"total_revenue\"].mean(), 2)\n",
    "mean_value_control = round(users_control_1[\"total_revenue\"].mean(), 2)\n",
    "\n",
    "fig, axs = plt.subplots(1, 2, figsize=(20, 5))\n",
    "\n",
    "sns.boxplot(data=test, x=\"total_revenue\", ax=axs[0])\n",
    "axs[0].text(\n",
    "    2.5,\n",
    "    0.8,\n",
    "    f\"Средняя выручка: {mean_value_test}\",\n",
    "    ha=\"center\",\n",
    "    va=\"center\",\n",
    "    fontsize=12,\n",
    ")\n",
    "axs[0].grid(True)\n",
    "\n",
    "\n",
    "sns.boxplot(data=control, x=\"total_revenue\", ax=axs[1])\n",
    "axs[1].text(\n",
    "    2.5,\n",
    "    0.8,\n",
    "    f\"Средняя выручка: {mean_value_control}\",\n",
    "    ha=\"center\",\n",
    "    va=\"center\",\n",
    "    fontsize=12,\n",
    ")\n",
    "axs[1].grid(True)\n"
   ]
  },
  {
   "cell_type": "code",
   "execution_count": 357,
   "metadata": {
    "scrolled": true
   },
   "outputs": [
    {
     "data": {
      "image/png": "[encoded data removed]",
      "text/plain": [
       "<Figure size 1440x360 with 2 Axes>"
      ]
     },
     "metadata": {
      "needs_background": "light"
     },
     "output_type": "display_data"
    }
   ],
   "source": [
    "mean_value_test = round(users_test[\"count_visits\"].mean(), 2)\n",
    "mean_value_control = round(users_control_1[\"count_visits\"].mean(), 2)\n",
    "\n",
    "fig, axs = plt.subplots(1, 2, figsize=(20, 5))\n",
    "\n",
    "sns.boxplot(data=test, x=\"count_visits\", ax=axs[0])\n",
    "axs[0].text(\n",
    "    2.5,\n",
    "    0.8,\n",
    "    f\"Ср. внутреняя валюта: {mean_value_test}\",\n",
    "    ha=\"center\",\n",
    "    va=\"center\",\n",
    "    fontsize=12,\n",
    ")\n",
    "axs[0].grid(True)\n",
    "\n",
    "\n",
    "sns.boxplot(data=control, x=\"count_visits\", ax=axs[1])\n",
    "axs[1].text(\n",
    "    2.5,\n",
    "    0.8,\n",
    "    f\"Ср. внутреняя валюта: {mean_value_control}\",\n",
    "    ha=\"center\",\n",
    "    va=\"center\",\n",
    "    fontsize=12,\n",
    ")\n",
    "axs[1].grid(True)\n"
   ]
  },
  {
   "cell_type": "code",
   "execution_count": 358,
   "metadata": {},
   "outputs": [
    {
     "data": {
      "text/html": [
       "<div>\n",
       "<style scoped>\n",
       "    .dataframe tbody tr th:only-of-type {\n",
       "        vertical-align: middle;\n",
       "    }\n",
       "\n",
       "    .dataframe tbody tr th {\n",
       "        vertical-align: top;\n",
       "    }\n",
       "\n",
       "    .dataframe thead th {\n",
       "        text-align: right;\n",
       "    }\n",
       "</style>\n",
       "<table border=\"1\" class=\"dataframe\">\n",
       "  <thead>\n",
       "    <tr style=\"text-align: right;\">\n",
       "      <th></th>\n",
       "      <th>status</th>\n",
       "      <th>product_type</th>\n",
       "      <th>uid</th>\n",
       "    </tr>\n",
       "  </thead>\n",
       "  <tbody>\n",
       "    <tr>\n",
       "      <th>0</th>\n",
       "      <td>не пробовал премиум и нет сейчас</td>\n",
       "      <td>coins</td>\n",
       "      <td>7</td>\n",
       "    </tr>\n",
       "    <tr>\n",
       "      <th>1</th>\n",
       "      <td>не пробовал премиум и нет сейчас</td>\n",
       "      <td>other_type</td>\n",
       "      <td>1</td>\n",
       "    </tr>\n",
       "    <tr>\n",
       "      <th>2</th>\n",
       "      <td>остался премиумом как и был (возможно смена пр...</td>\n",
       "      <td>coins</td>\n",
       "      <td>67</td>\n",
       "    </tr>\n",
       "    <tr>\n",
       "      <th>3</th>\n",
       "      <td>остался премиумом как и был (возможно смена пр...</td>\n",
       "      <td>other_type</td>\n",
       "      <td>22</td>\n",
       "    </tr>\n",
       "    <tr>\n",
       "      <th>4</th>\n",
       "      <td>остался премиумом как и был (возможно смена пр...</td>\n",
       "      <td>premium_no_trial</td>\n",
       "      <td>58</td>\n",
       "    </tr>\n",
       "    <tr>\n",
       "      <th>5</th>\n",
       "      <td>остался премиумом как и был (возможно смена пр...</td>\n",
       "      <td>trial_premium</td>\n",
       "      <td>47</td>\n",
       "    </tr>\n",
       "    <tr>\n",
       "      <th>6</th>\n",
       "      <td>сейчас не премиум-подписчкик, но когда-то был</td>\n",
       "      <td>coins</td>\n",
       "      <td>14</td>\n",
       "    </tr>\n",
       "    <tr>\n",
       "      <th>7</th>\n",
       "      <td>сейчас не премиум-подписчкик, но когда-то был</td>\n",
       "      <td>other_type</td>\n",
       "      <td>3</td>\n",
       "    </tr>\n",
       "    <tr>\n",
       "      <th>8</th>\n",
       "      <td>сейчас не премиум-подписчкик, но когда-то был</td>\n",
       "      <td>premium_no_trial</td>\n",
       "      <td>7</td>\n",
       "    </tr>\n",
       "  </tbody>\n",
       "</table>\n",
       "</div>"
      ],
      "text/plain": [
       "                                              status      product_type  uid\n",
       "0                   не пробовал премиум и нет сейчас             coins    7\n",
       "1                   не пробовал премиум и нет сейчас        other_type    1\n",
       "2  остался премиумом как и был (возможно смена пр...             coins   67\n",
       "3  остался премиумом как и был (возможно смена пр...        other_type   22\n",
       "4  остался премиумом как и был (возможно смена пр...  premium_no_trial   58\n",
       "5  остался премиумом как и был (возможно смена пр...     trial_premium   47\n",
       "6      сейчас не премиум-подписчкик, но когда-то был             coins   14\n",
       "7      сейчас не премиум-подписчкик, но когда-то был        other_type    3\n",
       "8      сейчас не премиум-подписчкик, но когда-то был  premium_no_trial    7"
      ]
     },
     "execution_count": 358,
     "metadata": {},
     "output_type": "execute_result"
    }
   ],
   "source": [
    "test.groupby([\"status\", \"product_type\"], as_index=False).agg({\"uid\": \"count\"})"
   ]
  },
  {
   "cell_type": "code",
   "execution_count": 360,
   "metadata": {},
   "outputs": [
    {
     "data": {
      "text/html": [
       "<div>\n",
       "<style scoped>\n",
       "    .dataframe tbody tr th:only-of-type {\n",
       "        vertical-align: middle;\n",
       "    }\n",
       "\n",
       "    .dataframe tbody tr th {\n",
       "        vertical-align: top;\n",
       "    }\n",
       "\n",
       "    .dataframe thead th {\n",
       "        text-align: right;\n",
       "    }\n",
       "</style>\n",
       "<table border=\"1\" class=\"dataframe\">\n",
       "  <thead>\n",
       "    <tr style=\"text-align: right;\">\n",
       "      <th></th>\n",
       "      <th>status</th>\n",
       "      <th>product_type</th>\n",
       "      <th>uid</th>\n",
       "    </tr>\n",
       "  </thead>\n",
       "  <tbody>\n",
       "    <tr>\n",
       "      <th>0</th>\n",
       "      <td>не пробовал премиум и нет сейчас</td>\n",
       "      <td>coins</td>\n",
       "      <td>42</td>\n",
       "    </tr>\n",
       "    <tr>\n",
       "      <th>1</th>\n",
       "      <td>не пробовал премиум и нет сейчас</td>\n",
       "      <td>other_type</td>\n",
       "      <td>6</td>\n",
       "    </tr>\n",
       "    <tr>\n",
       "      <th>2</th>\n",
       "      <td>остался премиумом как и был (возможно смена пр...</td>\n",
       "      <td>coins</td>\n",
       "      <td>182</td>\n",
       "    </tr>\n",
       "    <tr>\n",
       "      <th>3</th>\n",
       "      <td>остался премиумом как и был (возможно смена пр...</td>\n",
       "      <td>other_type</td>\n",
       "      <td>66</td>\n",
       "    </tr>\n",
       "    <tr>\n",
       "      <th>4</th>\n",
       "      <td>остался премиумом как и был (возможно смена пр...</td>\n",
       "      <td>premium_no_trial</td>\n",
       "      <td>164</td>\n",
       "    </tr>\n",
       "    <tr>\n",
       "      <th>5</th>\n",
       "      <td>остался премиумом как и был (возможно смена пр...</td>\n",
       "      <td>trial_premium</td>\n",
       "      <td>100</td>\n",
       "    </tr>\n",
       "    <tr>\n",
       "      <th>6</th>\n",
       "      <td>сейчас не премиум-подписчкик, но когда-то был</td>\n",
       "      <td>coins</td>\n",
       "      <td>26</td>\n",
       "    </tr>\n",
       "    <tr>\n",
       "      <th>7</th>\n",
       "      <td>сейчас не премиум-подписчкик, но когда-то был</td>\n",
       "      <td>other_type</td>\n",
       "      <td>30</td>\n",
       "    </tr>\n",
       "    <tr>\n",
       "      <th>8</th>\n",
       "      <td>сейчас не премиум-подписчкик, но когда-то был</td>\n",
       "      <td>premium_no_trial</td>\n",
       "      <td>26</td>\n",
       "    </tr>\n",
       "    <tr>\n",
       "      <th>9</th>\n",
       "      <td>сейчас не премиум-подписчкик, но когда-то был</td>\n",
       "      <td>trial_premium</td>\n",
       "      <td>2</td>\n",
       "    </tr>\n",
       "  </tbody>\n",
       "</table>\n",
       "</div>"
      ],
      "text/plain": [
       "                                              status      product_type  uid\n",
       "0                   не пробовал премиум и нет сейчас             coins   42\n",
       "1                   не пробовал премиум и нет сейчас        other_type    6\n",
       "2  остался премиумом как и был (возможно смена пр...             coins  182\n",
       "3  остался премиумом как и был (возможно смена пр...        other_type   66\n",
       "4  остался премиумом как и был (возможно смена пр...  premium_no_trial  164\n",
       "5  остался премиумом как и был (возможно смена пр...     trial_premium  100\n",
       "6      сейчас не премиум-подписчкик, но когда-то был             coins   26\n",
       "7      сейчас не премиум-подписчкик, но когда-то был        other_type   30\n",
       "8      сейчас не премиум-подписчкик, но когда-то был  premium_no_trial   26\n",
       "9      сейчас не премиум-подписчкик, но когда-то был     trial_premium    2"
      ]
     },
     "execution_count": 360,
     "metadata": {},
     "output_type": "execute_result"
    }
   ],
   "source": [
    "control.groupby([\"status\", \"product_type\"], as_index=False).agg({\"uid\": \"count\"})"
   ]
  },
  {
   "cell_type": "markdown",
   "metadata": {},
   "source": [
    "# <center> Выдвигаем гипотезы </center>"
   ]
  },
  {
   "cell_type": "markdown",
   "metadata": {},
   "source": [
    "Чтобы понять является ли эксперемент успешным, нужно определить параметры \"успеха\". Допустим это динамика по выручке, динамика по общему количеству премиум подписок, активность пользователей.\n",
    "\n",
    "Исходя из предварительного анализы можно сказать:\n",
    "\n",
    "###  Гипотеза 1\n",
    "\n",
    "При введении новых функций по премиум-подписке общая выручка приложения уменьшилась\n",
    "\n",
    "### Гипотеза 2\n",
    "\n",
    "При введении новых функций по премиум-подписке количество подписчиков премиума не изменилось\n",
    "\n",
    "### Гипотеза 3\n",
    "\n",
    "При введении новых функций по премиум-подписке активность пользователей не изменилось\n"
   ]
  },
  {
   "cell_type": "markdown",
   "metadata": {},
   "source": [
    "# <center> Проверка гипотез </center> "
   ]
  },
  {
   "cell_type": "markdown",
   "metadata": {},
   "source": [
    "### **Провека первой гипотезы** \n"
   ]
  },
  {
   "cell_type": "code",
   "execution_count": 361,
   "metadata": {},
   "outputs": [
    {
     "name": "stdout",
     "output_type": "stream",
     "text": [
      "T-статистика: -4.611508011946615\n",
      "p-значение: 4.0345893382756884e-06\n"
     ]
    }
   ],
   "source": [
    "t_statistic, p_value = stats.ttest_ind(test.total_revenue, control.total_revenue)\n",
    "\n",
    "# Вывод результатов\n",
    "print(\"T-статистика:\", t_statistic)\n",
    "print(\"p-значение:\", p_value)"
   ]
  },
  {
   "cell_type": "markdown",
   "metadata": {},
   "source": [
    "P значение меньше 0,05; можно сделать вывод о том, что существует статистически значимая разница между средним значением выручки в двух группах.\n",
    "\n",
    "**Выручка компании уменьшилась**\n",
    "\n",
    "\n",
    "Дополнительно проверим данные, отобранные только по нужному типу действия (подписка без пробной версии)"
   ]
  },
  {
   "cell_type": "code",
   "execution_count": 362,
   "metadata": {},
   "outputs": [
    {
     "name": "stdout",
     "output_type": "stream",
     "text": [
      "T-статистика: 1.8886648545847768\n",
      "p-значение: 0.06008062331692147\n"
     ]
    }
   ],
   "source": [
    "sample1 = test.query(\"product_type == 'premium_no_trial'\").revenue\n",
    "sample2 = control.query(\"product_type == 'premium_no_trial'\").revenue\n",
    "\n",
    "\n",
    "t_statistic, p_value = stats.ttest_ind(sample1, sample2)\n",
    "\n",
    "# Вывод результатов\n",
    "print(\"T-статистика:\", t_statistic)\n",
    "print(\"p-значение:\", p_value)\n"
   ]
  },
  {
   "cell_type": "markdown",
   "metadata": {},
   "source": [
    "p-значение больше 0,05; нельзя сделать вывод о наличии статистически значимой разницы между рядами данных. В этом случае нулевая гипотеза не может быть отвергнута."
   ]
  },
  {
   "cell_type": "markdown",
   "metadata": {},
   "source": [
    "### Проверка 2 гипотезы\n",
    "\n",
    "Для сравнения двух рядов данных, которые распределены не нормально, можно использовать непараметрический аналог однофакторного дисперсионного анализа - тест Краскела-Уоллиса (Kruskal-Wallis test). "
   ]
  },
  {
   "cell_type": "code",
   "execution_count": 363,
   "metadata": {},
   "outputs": [
    {
     "name": "stdout",
     "output_type": "stream",
     "text": [
      "Статистика теста: 9.3255998252706\n",
      "p-значение: 0.0022597433608537326\n"
     ]
    }
   ],
   "source": [
    "statistic, p_value = kruskal(test.is_premium, control.is_premium)\n",
    "\n",
    "# Вывод результатов\n",
    "print(\"Статистика теста:\", statistic)\n",
    "print(\"p-значение:\", p_value)"
   ]
  },
  {
   "cell_type": "markdown",
   "metadata": {},
   "source": [
    "p-значение меньше 0,05; можно сделать вывод о том, что существует статистически значимая разница между рядами данных. В этом случае можно отвергнуть нулевую гипотезу, которая гласит, что между рядами нет различий\n",
    "\n",
    "**Количество премиум подписок уменьшилась**\n",
    "\n",
    "### Проверка 3 гипотезы:"
   ]
  },
  {
   "cell_type": "code",
   "execution_count": 364,
   "metadata": {},
   "outputs": [
    {
     "name": "stdout",
     "output_type": "stream",
     "text": [
      "Статистика: -0.4238478305612769\n",
      "p-значение: 0.6716873371199246\n"
     ]
    }
   ],
   "source": [
    "group1 = users_test.count_visits\n",
    "group2 = users_control_1.count_visits\n",
    "\n",
    "stat, pval = stats.ttest_ind(group1, group2)\n",
    "\n",
    "# Вывод результатов\n",
    "print(\"Статистика:\", stat)\n",
    "print(\"p-значение:\", pval)"
   ]
  },
  {
   "cell_type": "markdown",
   "metadata": {},
   "source": [
    "p-значение больше 0,05; нельзя сделать вывод о наличии статистически значимой разницы в среднем значении двух рядов данных. \n"
   ]
  },
  {
   "cell_type": "markdown",
   "metadata": {},
   "source": [
    "## Таким образом экспермент можно считать не удачным."
   ]
  },
  {
   "cell_type": "markdown",
   "metadata": {},
   "source": [
    "# <center> Поиск инсайтов в данных по разным категориям пользователей </center> "
   ]
  },
  {
   "cell_type": "markdown",
   "metadata": {},
   "source": [
    "разбиваем данные по возрастным когортам"
   ]
  },
  {
   "cell_type": "code",
   "execution_count": 366,
   "metadata": {},
   "outputs": [],
   "source": [
    "bins = range(0, test[\"age\"].max() + 1, 5)\n",
    "labels = [f\"{b}-{b+4} лет\" for b in bins[:-1]]\n",
    "test[\"cogort\"] = pd.cut(test[\"age\"], bins=bins, labels=labels)\n",
    "control[\"cogort\"] = pd.cut(control[\"age\"], bins=bins, labels=labels)\n",
    "\n",
    "\n",
    "control = control.sort_values(\"gender\", ascending=False)"
   ]
  },
  {
   "cell_type": "markdown",
   "metadata": {},
   "source": [
    "Проверяем данные в разбивке по полу"
   ]
  },
  {
   "cell_type": "code",
   "execution_count": 367,
   "metadata": {},
   "outputs": [
    {
     "data": {
      "image/png": "[encoded data removed]",
      "text/plain": [
       "<Figure size 720x720 with 2 Axes>"
      ]
     },
     "metadata": {
      "needs_background": "light"
     },
     "output_type": "display_data"
    }
   ],
   "source": [
    "fig, axs = plt.subplots(2, 1, figsize=(10, 10))\n",
    "\n",
    "sns.barplot(data=test, x=\"gender\", y=\"is_premium\", ax=axs[0], palette=\"Set2\")\n",
    "axs[0].set_title(\"Тест\")\n",
    "axs[0].grid(True)\n",
    "\n",
    "sns.barplot(data=control, x=\"gender\", y=\"is_premium\", ax=axs[1], palette=\"Set2\")\n",
    "axs[1].set_title(\"Контроль\")\n",
    "axs[1].grid(True)\n"
   ]
  },
  {
   "cell_type": "code",
   "execution_count": 368,
   "metadata": {},
   "outputs": [
    {
     "data": {
      "text/html": [
       "<div>\n",
       "<style scoped>\n",
       "    .dataframe tbody tr th:only-of-type {\n",
       "        vertical-align: middle;\n",
       "    }\n",
       "\n",
       "    .dataframe tbody tr th {\n",
       "        vertical-align: top;\n",
       "    }\n",
       "\n",
       "    .dataframe thead th {\n",
       "        text-align: right;\n",
       "    }\n",
       "</style>\n",
       "<table border=\"1\" class=\"dataframe\">\n",
       "  <thead>\n",
       "    <tr style=\"text-align: right;\">\n",
       "      <th>product_type</th>\n",
       "      <th>coins</th>\n",
       "      <th>other_type</th>\n",
       "      <th>premium_no_trial</th>\n",
       "      <th>trial_premium</th>\n",
       "    </tr>\n",
       "    <tr>\n",
       "      <th>gender</th>\n",
       "      <th></th>\n",
       "      <th></th>\n",
       "      <th></th>\n",
       "      <th></th>\n",
       "    </tr>\n",
       "  </thead>\n",
       "  <tbody>\n",
       "    <tr>\n",
       "      <th>женский пол</th>\n",
       "      <td>NaN</td>\n",
       "      <td>NaN</td>\n",
       "      <td>NaN</td>\n",
       "      <td>2.0</td>\n",
       "    </tr>\n",
       "    <tr>\n",
       "      <th>мужской пол</th>\n",
       "      <td>88.0</td>\n",
       "      <td>26.0</td>\n",
       "      <td>65.0</td>\n",
       "      <td>45.0</td>\n",
       "    </tr>\n",
       "  </tbody>\n",
       "</table>\n",
       "</div>"
      ],
      "text/plain": [
       "product_type  coins  other_type  premium_no_trial  trial_premium\n",
       "gender                                                          \n",
       "женский пол     NaN         NaN               NaN            2.0\n",
       "мужской пол    88.0        26.0              65.0           45.0"
      ]
     },
     "execution_count": 368,
     "metadata": {},
     "output_type": "execute_result"
    }
   ],
   "source": [
    "test.groupby([\"gender\", \"product_type\"], as_index=False).agg({\"uid\": \"count\"}).pivot(\n",
    "    index=\"gender\", columns=\"product_type\", values=\"uid\"\n",
    ")\n"
   ]
  },
  {
   "cell_type": "code",
   "execution_count": 369,
   "metadata": {},
   "outputs": [
    {
     "data": {
      "text/html": [
       "<div>\n",
       "<style scoped>\n",
       "    .dataframe tbody tr th:only-of-type {\n",
       "        vertical-align: middle;\n",
       "    }\n",
       "\n",
       "    .dataframe tbody tr th {\n",
       "        vertical-align: top;\n",
       "    }\n",
       "\n",
       "    .dataframe thead th {\n",
       "        text-align: right;\n",
       "    }\n",
       "</style>\n",
       "<table border=\"1\" class=\"dataframe\">\n",
       "  <thead>\n",
       "    <tr style=\"text-align: right;\">\n",
       "      <th>product_type</th>\n",
       "      <th>coins</th>\n",
       "      <th>other_type</th>\n",
       "      <th>premium_no_trial</th>\n",
       "      <th>trial_premium</th>\n",
       "    </tr>\n",
       "    <tr>\n",
       "      <th>gender</th>\n",
       "      <th></th>\n",
       "      <th></th>\n",
       "      <th></th>\n",
       "      <th></th>\n",
       "    </tr>\n",
       "  </thead>\n",
       "  <tbody>\n",
       "    <tr>\n",
       "      <th>женский пол</th>\n",
       "      <td>NaN</td>\n",
       "      <td>NaN</td>\n",
       "      <td>NaN</td>\n",
       "      <td>6.0</td>\n",
       "    </tr>\n",
       "    <tr>\n",
       "      <th>мужской пол</th>\n",
       "      <td>250.0</td>\n",
       "      <td>102.0</td>\n",
       "      <td>190.0</td>\n",
       "      <td>96.0</td>\n",
       "    </tr>\n",
       "  </tbody>\n",
       "</table>\n",
       "</div>"
      ],
      "text/plain": [
       "product_type  coins  other_type  premium_no_trial  trial_premium\n",
       "gender                                                          \n",
       "женский пол     NaN         NaN               NaN            6.0\n",
       "мужской пол   250.0       102.0             190.0           96.0"
      ]
     },
     "execution_count": 369,
     "metadata": {},
     "output_type": "execute_result"
    }
   ],
   "source": [
    "control.groupby([\"gender\", \"product_type\"], as_index=False).agg({\"uid\": \"count\"}).pivot(\n",
    "    index=\"gender\", columns=\"product_type\", values=\"uid\"\n",
    ")\n"
   ]
  },
  {
   "cell_type": "markdown",
   "metadata": {},
   "source": [
    "Для дальнейшего анализа отдельно лучше взять только мужчин."
   ]
  },
  {
   "cell_type": "code",
   "execution_count": 370,
   "metadata": {},
   "outputs": [
    {
     "data": {
      "image/png": "[encoded data removed]",
      "text/plain": [
       "<Figure size 1080x720 with 2 Axes>"
      ]
     },
     "metadata": {
      "needs_background": "light"
     },
     "output_type": "display_data"
    }
   ],
   "source": [
    "fig, axs = plt.subplots(2, 1, figsize=(15, 10))\n",
    "\n",
    "sns.barplot(\n",
    "    data=test.query(\"gender == 'мужской пол'\"),\n",
    "    x=\"cogort\",\n",
    "    y=\"is_premium\",\n",
    "    ax=axs[0],\n",
    "    palette=\"Set2\",\n",
    ")\n",
    "axs[0].set_title(\"Тест\")\n",
    "axs[0].grid(True)\n",
    "\n",
    "sns.barplot(\n",
    "    data=control.query(\"gender == 'мужской пол'\"),\n",
    "    x=\"cogort\",\n",
    "    y=\"is_premium\",\n",
    "    ax=axs[1],\n",
    "    palette=\"Set2\",\n",
    ")\n",
    "axs[1].set_title(\"Контроль\")\n",
    "axs[1].grid(True)\n"
   ]
  },
  {
   "cell_type": "markdown",
   "metadata": {},
   "source": [
    "### Гипотеза:\n",
    "\n",
    "Количество подписок выросло у мужчин в когортах 30-34 и 35-40 лет."
   ]
  },
  {
   "cell_type": "code",
   "execution_count": 371,
   "metadata": {},
   "outputs": [
    {
     "name": "stdout",
     "output_type": "stream",
     "text": [
      "Статистика теста: 19.131817274333553\n",
      "p-значение: 1.2199413179553471e-05\n"
     ]
    }
   ],
   "source": [
    "sample1 = test.query(\"cogort == '30-34 лет' & gender == 'мужской пол'\").is_premium\n",
    "sample2 = control.query(\"cogort == '30-34 лет' & gender == 'мужской пол'\").is_premium\n",
    "\n",
    "statistic, p_value = kruskal(sample1, sample2)\n",
    "\n",
    "# Вывод результатов\n",
    "print(\"Статистика теста:\", statistic)\n",
    "print(\"p-значение:\", p_value)\n"
   ]
  },
  {
   "cell_type": "code",
   "execution_count": 372,
   "metadata": {},
   "outputs": [
    {
     "name": "stdout",
     "output_type": "stream",
     "text": [
      "Статистика теста: 4.709173087123504\n",
      "p-значение: 0.030002079542195463\n"
     ]
    }
   ],
   "source": [
    "sample1 = test.query(\"cogort == '35-39 лет' & gender == 'мужской пол'\").is_premium\n",
    "sample2 = control.query(\"cogort == '35-39 лет' & gender == 'мужской пол'\").is_premium\n",
    "\n",
    "statistic, p_value = kruskal(sample1, sample2)\n",
    "\n",
    "# Вывод результатов\n",
    "print(\"Статистика теста:\", statistic)\n",
    "print(\"p-значение:\", p_value)\n"
   ]
  },
  {
   "cell_type": "markdown",
   "metadata": {},
   "source": [
    " \n",
    "Статистически значимая разница есть в количестве премиум подписок для мужчин в возрасте 30-34 года и в возрасте 35-39 лет."
   ]
  },
  {
   "cell_type": "markdown",
   "metadata": {},
   "source": [
    "# <center> Выводы </center> "
   ]
  },
  {
   "cell_type": "markdown",
   "metadata": {},
   "source": [
    "1)  В целом эксперемент нельзя назвать удачным. Положительной динамики нет ни среди количества премиум-подписок, ни по выручке. Статистически значимая разница есть по выручке: она уменьшилась. Количество премиум подписок также значимо умешились для всех пользователей.\n",
    "\n",
    "2) Новых пользователей (тех кто никогда не был премиум-подписчиком) не появилось. Покупки в основном подписок были среди пользователей за внутреннюю валюту.\n",
    "\n",
    "5) Положительный рост по подпискам на премиум-аккаунт наблюдается среди мужчин в возрасте от 30 до 40 лет. Именно для них новые функции оказались наиболее привлекательными."
   ]
  },
  {
   "cell_type": "code",
   "execution_count": null,
   "metadata": {},
   "outputs": [],
   "source": []
  }
 ],
 "metadata": {
  "kernelspec": {
   "display_name": "Python 3",
   "language": "python",
   "name": "python3"
  },
  "language_info": {
   "codemirror_mode": {
    "name": "ipython",
    "version": 3
   },
   "file_extension": ".py",
   "mimetype": "text/x-python",
   "name": "python",
   "nbconvert_exporter": "python",
   "pygments_lexer": "ipython3",
   "version": "3.7.3"
  }
 },
 "nbformat": 4,
 "nbformat_minor": 4
}
